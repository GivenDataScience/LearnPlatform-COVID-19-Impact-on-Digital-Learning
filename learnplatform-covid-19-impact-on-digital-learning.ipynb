{
 "cells": [
  {
   "cell_type": "code",
   "execution_count": 1,
   "id": "9418a0cc",
   "metadata": {
    "_cell_guid": "b1076dfc-b9ad-4769-8c92-a6c4dae69d19",
    "_uuid": "8f2839f25d086af736a60e9eeb907d3b93b6e0e5",
    "execution": {
     "iopub.execute_input": "2022-03-12T17:11:57.936825Z",
     "iopub.status.busy": "2022-03-12T17:11:57.935042Z",
     "iopub.status.idle": "2022-03-12T17:11:58.116920Z",
     "shell.execute_reply": "2022-03-12T17:11:58.116086Z",
     "shell.execute_reply.started": "2021-08-18T11:29:30.356657Z"
    },
    "papermill": {
     "duration": 0.195871,
     "end_time": "2022-03-12T17:11:58.117165",
     "exception": false,
     "start_time": "2022-03-12T17:11:57.921294",
     "status": "completed"
    },
    "tags": []
   },
   "outputs": [
    {
     "name": "stdout",
     "output_type": "stream",
     "text": [
      "/kaggle/input/learnplatform-covid19-impact-on-digital-learning/products_info.csv\n",
      "/kaggle/input/learnplatform-covid19-impact-on-digital-learning/README.md\n",
      "/kaggle/input/learnplatform-covid19-impact-on-digital-learning/districts_info.csv\n",
      "/kaggle/input/learnplatform-covid19-impact-on-digital-learning/engagement_data/6345.csv\n",
      "/kaggle/input/learnplatform-covid19-impact-on-digital-learning/engagement_data/9812.csv\n",
      "/kaggle/input/learnplatform-covid19-impact-on-digital-learning/engagement_data/2339.csv\n",
      "/kaggle/input/learnplatform-covid19-impact-on-digital-learning/engagement_data/5404.csv\n",
      "/kaggle/input/learnplatform-covid19-impact-on-digital-learning/engagement_data/5150.csv\n",
      "/kaggle/input/learnplatform-covid19-impact-on-digital-learning/engagement_data/1624.csv\n",
      "/kaggle/input/learnplatform-covid19-impact-on-digital-learning/engagement_data/3188.csv\n",
      "/kaggle/input/learnplatform-covid19-impact-on-digital-learning/engagement_data/7964.csv\n",
      "/kaggle/input/learnplatform-covid19-impact-on-digital-learning/engagement_data/2165.csv\n",
      "/kaggle/input/learnplatform-covid19-impact-on-digital-learning/engagement_data/9463.csv\n",
      "/kaggle/input/learnplatform-covid19-impact-on-digital-learning/engagement_data/9303.csv\n",
      "/kaggle/input/learnplatform-covid19-impact-on-digital-learning/engagement_data/2321.csv\n",
      "/kaggle/input/learnplatform-covid19-impact-on-digital-learning/engagement_data/8937.csv\n",
      "/kaggle/input/learnplatform-covid19-impact-on-digital-learning/engagement_data/1179.csv\n",
      "/kaggle/input/learnplatform-covid19-impact-on-digital-learning/engagement_data/7352.csv\n",
      "/kaggle/input/learnplatform-covid19-impact-on-digital-learning/engagement_data/1000.csv\n",
      "/kaggle/input/learnplatform-covid19-impact-on-digital-learning/engagement_data/6055.csv\n",
      "/kaggle/input/learnplatform-covid19-impact-on-digital-learning/engagement_data/1142.csv\n",
      "/kaggle/input/learnplatform-covid19-impact-on-digital-learning/engagement_data/6584.csv\n",
      "/kaggle/input/learnplatform-covid19-impact-on-digital-learning/engagement_data/9043.csv\n",
      "/kaggle/input/learnplatform-covid19-impact-on-digital-learning/engagement_data/5231.csv\n",
      "/kaggle/input/learnplatform-covid19-impact-on-digital-learning/engagement_data/3864.csv\n",
      "/kaggle/input/learnplatform-covid19-impact-on-digital-learning/engagement_data/1044.csv\n",
      "/kaggle/input/learnplatform-covid19-impact-on-digital-learning/engagement_data/1450.csv\n",
      "/kaggle/input/learnplatform-covid19-impact-on-digital-learning/engagement_data/3550.csv\n",
      "/kaggle/input/learnplatform-covid19-impact-on-digital-learning/engagement_data/6721.csv\n",
      "/kaggle/input/learnplatform-covid19-impact-on-digital-learning/engagement_data/2517.csv\n",
      "/kaggle/input/learnplatform-covid19-impact-on-digital-learning/engagement_data/2106.csv\n",
      "/kaggle/input/learnplatform-covid19-impact-on-digital-learning/engagement_data/4314.csv\n",
      "/kaggle/input/learnplatform-covid19-impact-on-digital-learning/engagement_data/7975.csv\n",
      "/kaggle/input/learnplatform-covid19-impact-on-digital-learning/engagement_data/6762.csv\n",
      "/kaggle/input/learnplatform-covid19-impact-on-digital-learning/engagement_data/2685.csv\n",
      "/kaggle/input/learnplatform-covid19-impact-on-digital-learning/engagement_data/7767.csv\n",
      "/kaggle/input/learnplatform-covid19-impact-on-digital-learning/engagement_data/4668.csv\n",
      "/kaggle/input/learnplatform-covid19-impact-on-digital-learning/engagement_data/4550.csv\n",
      "/kaggle/input/learnplatform-covid19-impact-on-digital-learning/engagement_data/1039.csv\n",
      "/kaggle/input/learnplatform-covid19-impact-on-digital-learning/engagement_data/9553.csv\n",
      "/kaggle/input/learnplatform-covid19-impact-on-digital-learning/engagement_data/7308.csv\n",
      "/kaggle/input/learnplatform-covid19-impact-on-digital-learning/engagement_data/2285.csv\n",
      "/kaggle/input/learnplatform-covid19-impact-on-digital-learning/engagement_data/3390.csv\n",
      "/kaggle/input/learnplatform-covid19-impact-on-digital-learning/engagement_data/3248.csv\n",
      "/kaggle/input/learnplatform-covid19-impact-on-digital-learning/engagement_data/4629.csv\n",
      "/kaggle/input/learnplatform-covid19-impact-on-digital-learning/engagement_data/1131.csv\n",
      "/kaggle/input/learnplatform-covid19-impact-on-digital-learning/engagement_data/5422.csv\n",
      "/kaggle/input/learnplatform-covid19-impact-on-digital-learning/engagement_data/7980.csv\n",
      "/kaggle/input/learnplatform-covid19-impact-on-digital-learning/engagement_data/4516.csv\n",
      "/kaggle/input/learnplatform-covid19-impact-on-digital-learning/engagement_data/8103.csv\n",
      "/kaggle/input/learnplatform-covid19-impact-on-digital-learning/engagement_data/8815.csv\n",
      "/kaggle/input/learnplatform-covid19-impact-on-digital-learning/engagement_data/5987.csv\n",
      "/kaggle/input/learnplatform-covid19-impact-on-digital-learning/engagement_data/5006.csv\n",
      "/kaggle/input/learnplatform-covid19-impact-on-digital-learning/engagement_data/3080.csv\n",
      "/kaggle/input/learnplatform-covid19-impact-on-digital-learning/engagement_data/2779.csv\n",
      "/kaggle/input/learnplatform-covid19-impact-on-digital-learning/engagement_data/2130.csv\n",
      "/kaggle/input/learnplatform-covid19-impact-on-digital-learning/engagement_data/3692.csv\n",
      "/kaggle/input/learnplatform-covid19-impact-on-digital-learning/engagement_data/3670.csv\n",
      "/kaggle/input/learnplatform-covid19-impact-on-digital-learning/engagement_data/7675.csv\n",
      "/kaggle/input/learnplatform-covid19-impact-on-digital-learning/engagement_data/4051.csv\n",
      "/kaggle/input/learnplatform-covid19-impact-on-digital-learning/engagement_data/7457.csv\n",
      "/kaggle/input/learnplatform-covid19-impact-on-digital-learning/engagement_data/4749.csv\n",
      "/kaggle/input/learnplatform-covid19-impact-on-digital-learning/engagement_data/8017.csv\n",
      "/kaggle/input/learnplatform-covid19-impact-on-digital-learning/engagement_data/4937.csv\n",
      "/kaggle/input/learnplatform-covid19-impact-on-digital-learning/engagement_data/8515.csv\n",
      "/kaggle/input/learnplatform-covid19-impact-on-digital-learning/engagement_data/1536.csv\n",
      "/kaggle/input/learnplatform-covid19-impact-on-digital-learning/engagement_data/5890.csv\n",
      "/kaggle/input/learnplatform-covid19-impact-on-digital-learning/engagement_data/2017.csv\n",
      "/kaggle/input/learnplatform-covid19-impact-on-digital-learning/engagement_data/9140.csv\n",
      "/kaggle/input/learnplatform-covid19-impact-on-digital-learning/engagement_data/1470.csv\n",
      "/kaggle/input/learnplatform-covid19-impact-on-digital-learning/engagement_data/8784.csv\n",
      "/kaggle/input/learnplatform-covid19-impact-on-digital-learning/engagement_data/6512.csv\n",
      "/kaggle/input/learnplatform-covid19-impact-on-digital-learning/engagement_data/6165.csv\n",
      "/kaggle/input/learnplatform-covid19-impact-on-digital-learning/engagement_data/3301.csv\n",
      "/kaggle/input/learnplatform-covid19-impact-on-digital-learning/engagement_data/8425.csv\n",
      "/kaggle/input/learnplatform-covid19-impact-on-digital-learning/engagement_data/4348.csv\n",
      "/kaggle/input/learnplatform-covid19-impact-on-digital-learning/engagement_data/7086.csv\n",
      "/kaggle/input/learnplatform-covid19-impact-on-digital-learning/engagement_data/2201.csv\n",
      "/kaggle/input/learnplatform-covid19-impact-on-digital-learning/engagement_data/8328.csv\n",
      "/kaggle/input/learnplatform-covid19-impact-on-digital-learning/engagement_data/8702.csv\n",
      "/kaggle/input/learnplatform-covid19-impact-on-digital-learning/engagement_data/4666.csv\n",
      "/kaggle/input/learnplatform-covid19-impact-on-digital-learning/engagement_data/6066.csv\n",
      "/kaggle/input/learnplatform-covid19-impact-on-digital-learning/engagement_data/9899.csv\n",
      "/kaggle/input/learnplatform-covid19-impact-on-digital-learning/engagement_data/1857.csv\n",
      "/kaggle/input/learnplatform-covid19-impact-on-digital-learning/engagement_data/2729.csv\n",
      "/kaggle/input/learnplatform-covid19-impact-on-digital-learning/engagement_data/3640.csv\n",
      "/kaggle/input/learnplatform-covid19-impact-on-digital-learning/engagement_data/7164.csv\n",
      "/kaggle/input/learnplatform-covid19-impact-on-digital-learning/engagement_data/7614.csv\n",
      "/kaggle/input/learnplatform-covid19-impact-on-digital-learning/engagement_data/1877.csv\n",
      "/kaggle/input/learnplatform-covid19-impact-on-digital-learning/engagement_data/3772.csv\n",
      "/kaggle/input/learnplatform-covid19-impact-on-digital-learning/engagement_data/5903.csv\n",
      "/kaggle/input/learnplatform-covid19-impact-on-digital-learning/engagement_data/6665.csv\n",
      "/kaggle/input/learnplatform-covid19-impact-on-digital-learning/engagement_data/1965.csv\n",
      "/kaggle/input/learnplatform-covid19-impact-on-digital-learning/engagement_data/3160.csv\n",
      "/kaggle/input/learnplatform-covid19-impact-on-digital-learning/engagement_data/6049.csv\n",
      "/kaggle/input/learnplatform-covid19-impact-on-digital-learning/engagement_data/3710.csv\n",
      "/kaggle/input/learnplatform-covid19-impact-on-digital-learning/engagement_data/1444.csv\n",
      "/kaggle/input/learnplatform-covid19-impact-on-digital-learning/engagement_data/3471.csv\n",
      "/kaggle/input/learnplatform-covid19-impact-on-digital-learning/engagement_data/2991.csv\n",
      "/kaggle/input/learnplatform-covid19-impact-on-digital-learning/engagement_data/4183.csv\n",
      "/kaggle/input/learnplatform-covid19-impact-on-digital-learning/engagement_data/8433.csv\n",
      "/kaggle/input/learnplatform-covid19-impact-on-digital-learning/engagement_data/6194.csv\n",
      "/kaggle/input/learnplatform-covid19-impact-on-digital-learning/engagement_data/3412.csv\n",
      "/kaggle/input/learnplatform-covid19-impact-on-digital-learning/engagement_data/9478.csv\n",
      "/kaggle/input/learnplatform-covid19-impact-on-digital-learning/engagement_data/1904.csv\n",
      "/kaggle/input/learnplatform-covid19-impact-on-digital-learning/engagement_data/8539.csv\n",
      "/kaggle/input/learnplatform-covid19-impact-on-digital-learning/engagement_data/5600.csv\n",
      "/kaggle/input/learnplatform-covid19-impact-on-digital-learning/engagement_data/2209.csv\n",
      "/kaggle/input/learnplatform-covid19-impact-on-digital-learning/engagement_data/9778.csv\n",
      "/kaggle/input/learnplatform-covid19-impact-on-digital-learning/engagement_data/3371.csv\n",
      "/kaggle/input/learnplatform-covid19-impact-on-digital-learning/engagement_data/7387.csv\n",
      "/kaggle/input/learnplatform-covid19-impact-on-digital-learning/engagement_data/8902.csv\n",
      "/kaggle/input/learnplatform-covid19-impact-on-digital-learning/engagement_data/6046.csv\n",
      "/kaggle/input/learnplatform-covid19-impact-on-digital-learning/engagement_data/3266.csv\n",
      "/kaggle/input/learnplatform-covid19-impact-on-digital-learning/engagement_data/9536.csv\n",
      "/kaggle/input/learnplatform-covid19-impact-on-digital-learning/engagement_data/8127.csv\n",
      "/kaggle/input/learnplatform-covid19-impact-on-digital-learning/engagement_data/9120.csv\n",
      "/kaggle/input/learnplatform-covid19-impact-on-digital-learning/engagement_data/3558.csv\n",
      "/kaggle/input/learnplatform-covid19-impact-on-digital-learning/engagement_data/5524.csv\n",
      "/kaggle/input/learnplatform-covid19-impact-on-digital-learning/engagement_data/7741.csv\n",
      "/kaggle/input/learnplatform-covid19-impact-on-digital-learning/engagement_data/1204.csv\n",
      "/kaggle/input/learnplatform-covid19-impact-on-digital-learning/engagement_data/9839.csv\n",
      "/kaggle/input/learnplatform-covid19-impact-on-digital-learning/engagement_data/4775.csv\n",
      "/kaggle/input/learnplatform-covid19-impact-on-digital-learning/engagement_data/4373.csv\n",
      "/kaggle/input/learnplatform-covid19-impact-on-digital-learning/engagement_data/2074.csv\n",
      "/kaggle/input/learnplatform-covid19-impact-on-digital-learning/engagement_data/8685.csv\n",
      "/kaggle/input/learnplatform-covid19-impact-on-digital-learning/engagement_data/4921.csv\n",
      "/kaggle/input/learnplatform-covid19-impact-on-digital-learning/engagement_data/1772.csv\n",
      "/kaggle/input/learnplatform-covid19-impact-on-digital-learning/engagement_data/6250.csv\n",
      "/kaggle/input/learnplatform-covid19-impact-on-digital-learning/engagement_data/1791.csv\n",
      "/kaggle/input/learnplatform-covid19-impact-on-digital-learning/engagement_data/8723.csv\n",
      "/kaggle/input/learnplatform-covid19-impact-on-digital-learning/engagement_data/5042.csv\n",
      "/kaggle/input/learnplatform-covid19-impact-on-digital-learning/engagement_data/2172.csv\n",
      "/kaggle/input/learnplatform-covid19-impact-on-digital-learning/engagement_data/3580.csv\n",
      "/kaggle/input/learnplatform-covid19-impact-on-digital-learning/engagement_data/3936.csv\n",
      "/kaggle/input/learnplatform-covid19-impact-on-digital-learning/engagement_data/8520.csv\n",
      "/kaggle/input/learnplatform-covid19-impact-on-digital-learning/engagement_data/3314.csv\n",
      "/kaggle/input/learnplatform-covid19-impact-on-digital-learning/engagement_data/6998.csv\n",
      "/kaggle/input/learnplatform-covid19-impact-on-digital-learning/engagement_data/8184.csv\n",
      "/kaggle/input/learnplatform-covid19-impact-on-digital-learning/engagement_data/7660.csv\n",
      "/kaggle/input/learnplatform-covid19-impact-on-digital-learning/engagement_data/8076.csv\n",
      "/kaggle/input/learnplatform-covid19-impact-on-digital-learning/engagement_data/2598.csv\n",
      "/kaggle/input/learnplatform-covid19-impact-on-digital-learning/engagement_data/2940.csv\n",
      "/kaggle/input/learnplatform-covid19-impact-on-digital-learning/engagement_data/1052.csv\n",
      "/kaggle/input/learnplatform-covid19-impact-on-digital-learning/engagement_data/5057.csv\n",
      "/kaggle/input/learnplatform-covid19-impact-on-digital-learning/engagement_data/2567.csv\n",
      "/kaggle/input/learnplatform-covid19-impact-on-digital-learning/engagement_data/7723.csv\n",
      "/kaggle/input/learnplatform-covid19-impact-on-digital-learning/engagement_data/1558.csv\n",
      "/kaggle/input/learnplatform-covid19-impact-on-digital-learning/engagement_data/1742.csv\n",
      "/kaggle/input/learnplatform-covid19-impact-on-digital-learning/engagement_data/3959.csv\n",
      "/kaggle/input/learnplatform-covid19-impact-on-digital-learning/engagement_data/4683.csv\n",
      "/kaggle/input/learnplatform-covid19-impact-on-digital-learning/engagement_data/1705.csv\n",
      "/kaggle/input/learnplatform-covid19-impact-on-digital-learning/engagement_data/4083.csv\n",
      "/kaggle/input/learnplatform-covid19-impact-on-digital-learning/engagement_data/2872.csv\n",
      "/kaggle/input/learnplatform-covid19-impact-on-digital-learning/engagement_data/6774.csv\n",
      "/kaggle/input/learnplatform-covid19-impact-on-digital-learning/engagement_data/4029.csv\n",
      "/kaggle/input/learnplatform-covid19-impact-on-digital-learning/engagement_data/8796.csv\n",
      "/kaggle/input/learnplatform-covid19-impact-on-digital-learning/engagement_data/4569.csv\n",
      "/kaggle/input/learnplatform-covid19-impact-on-digital-learning/engagement_data/5510.csv\n",
      "/kaggle/input/learnplatform-covid19-impact-on-digital-learning/engagement_data/8256.csv\n",
      "/kaggle/input/learnplatform-covid19-impact-on-digital-learning/engagement_data/4203.csv\n",
      "/kaggle/input/learnplatform-covid19-impact-on-digital-learning/engagement_data/7177.csv\n",
      "/kaggle/input/learnplatform-covid19-impact-on-digital-learning/engagement_data/9729.csv\n",
      "/kaggle/input/learnplatform-covid19-impact-on-digital-learning/engagement_data/9537.csv\n",
      "/kaggle/input/learnplatform-covid19-impact-on-digital-learning/engagement_data/8556.csv\n",
      "/kaggle/input/learnplatform-covid19-impact-on-digital-learning/engagement_data/8160.csv\n",
      "/kaggle/input/learnplatform-covid19-impact-on-digital-learning/engagement_data/2441.csv\n",
      "/kaggle/input/learnplatform-covid19-impact-on-digital-learning/engagement_data/6144.csv\n",
      "/kaggle/input/learnplatform-covid19-impact-on-digital-learning/engagement_data/3732.csv\n",
      "/kaggle/input/learnplatform-covid19-impact-on-digital-learning/engagement_data/9007.csv\n",
      "/kaggle/input/learnplatform-covid19-impact-on-digital-learning/engagement_data/7858.csv\n",
      "/kaggle/input/learnplatform-covid19-impact-on-digital-learning/engagement_data/4031.csv\n",
      "/kaggle/input/learnplatform-covid19-impact-on-digital-learning/engagement_data/4936.csv\n",
      "/kaggle/input/learnplatform-covid19-impact-on-digital-learning/engagement_data/2238.csv\n",
      "/kaggle/input/learnplatform-covid19-impact-on-digital-learning/engagement_data/5257.csv\n",
      "/kaggle/input/learnplatform-covid19-impact-on-digital-learning/engagement_data/4602.csv\n",
      "/kaggle/input/learnplatform-covid19-impact-on-digital-learning/engagement_data/7752.csv\n",
      "/kaggle/input/learnplatform-covid19-impact-on-digital-learning/engagement_data/5527.csv\n",
      "/kaggle/input/learnplatform-covid19-impact-on-digital-learning/engagement_data/7305.csv\n",
      "/kaggle/input/learnplatform-covid19-impact-on-digital-learning/engagement_data/2257.csv\n",
      "/kaggle/input/learnplatform-covid19-impact-on-digital-learning/engagement_data/2439.csv\n",
      "/kaggle/input/learnplatform-covid19-impact-on-digital-learning/engagement_data/9927.csv\n",
      "/kaggle/input/learnplatform-covid19-impact-on-digital-learning/engagement_data/4929.csv\n",
      "/kaggle/input/learnplatform-covid19-impact-on-digital-learning/engagement_data/1270.csv\n",
      "/kaggle/input/learnplatform-covid19-impact-on-digital-learning/engagement_data/4591.csv\n",
      "/kaggle/input/learnplatform-covid19-impact-on-digital-learning/engagement_data/6919.csv\n",
      "/kaggle/input/learnplatform-covid19-impact-on-digital-learning/engagement_data/1549.csv\n",
      "/kaggle/input/learnplatform-covid19-impact-on-digital-learning/engagement_data/9230.csv\n",
      "/kaggle/input/learnplatform-covid19-impact-on-digital-learning/engagement_data/7829.csv\n",
      "/kaggle/input/learnplatform-covid19-impact-on-digital-learning/engagement_data/4520.csv\n",
      "/kaggle/input/learnplatform-covid19-impact-on-digital-learning/engagement_data/5934.csv\n",
      "/kaggle/input/learnplatform-covid19-impact-on-digital-learning/engagement_data/1584.csv\n",
      "/kaggle/input/learnplatform-covid19-impact-on-digital-learning/engagement_data/4744.csv\n",
      "/kaggle/input/learnplatform-covid19-impact-on-digital-learning/engagement_data/4949.csv\n",
      "/kaggle/input/learnplatform-covid19-impact-on-digital-learning/engagement_data/7541.csv\n",
      "/kaggle/input/learnplatform-covid19-impact-on-digital-learning/engagement_data/6577.csv\n",
      "/kaggle/input/learnplatform-covid19-impact-on-digital-learning/engagement_data/8748.csv\n",
      "/kaggle/input/learnplatform-covid19-impact-on-digital-learning/engagement_data/5380.csv\n",
      "/kaggle/input/learnplatform-covid19-impact-on-digital-learning/engagement_data/7798.csv\n",
      "/kaggle/input/learnplatform-covid19-impact-on-digital-learning/engagement_data/2956.csv\n",
      "/kaggle/input/learnplatform-covid19-impact-on-digital-learning/engagement_data/9589.csv\n",
      "/kaggle/input/learnplatform-covid19-impact-on-digital-learning/engagement_data/3668.csv\n",
      "/kaggle/input/learnplatform-covid19-impact-on-digital-learning/engagement_data/2549.csv\n",
      "/kaggle/input/learnplatform-covid19-impact-on-digital-learning/engagement_data/2060.csv\n",
      "/kaggle/input/learnplatform-covid19-impact-on-digital-learning/engagement_data/4808.csv\n",
      "/kaggle/input/learnplatform-covid19-impact-on-digital-learning/engagement_data/5604.csv\n",
      "/kaggle/input/learnplatform-covid19-impact-on-digital-learning/engagement_data/5970.csv\n",
      "/kaggle/input/learnplatform-covid19-impact-on-digital-learning/engagement_data/3228.csv\n",
      "/kaggle/input/learnplatform-covid19-impact-on-digital-learning/engagement_data/6104.csv\n",
      "/kaggle/input/learnplatform-covid19-impact-on-digital-learning/engagement_data/4165.csv\n",
      "/kaggle/input/learnplatform-covid19-impact-on-digital-learning/engagement_data/1570.csv\n",
      "/kaggle/input/learnplatform-covid19-impact-on-digital-learning/engagement_data/3322.csv\n",
      "/kaggle/input/learnplatform-covid19-impact-on-digital-learning/engagement_data/8884.csv\n",
      "/kaggle/input/learnplatform-covid19-impact-on-digital-learning/engagement_data/3986.csv\n",
      "/kaggle/input/learnplatform-covid19-impact-on-digital-learning/engagement_data/3222.csv\n",
      "/kaggle/input/learnplatform-covid19-impact-on-digital-learning/engagement_data/9357.csv\n",
      "/kaggle/input/learnplatform-covid19-impact-on-digital-learning/engagement_data/9515.csv\n",
      "/kaggle/input/learnplatform-covid19-impact-on-digital-learning/engagement_data/2601.csv\n",
      "/kaggle/input/learnplatform-covid19-impact-on-digital-learning/engagement_data/1324.csv\n",
      "/kaggle/input/learnplatform-covid19-impact-on-digital-learning/engagement_data/1712.csv\n",
      "/kaggle/input/learnplatform-covid19-impact-on-digital-learning/engagement_data/7342.csv\n",
      "/kaggle/input/learnplatform-covid19-impact-on-digital-learning/engagement_data/5479.csv\n",
      "/kaggle/input/learnplatform-covid19-impact-on-digital-learning/engagement_data/2870.csv\n",
      "/kaggle/input/learnplatform-covid19-impact-on-digital-learning/engagement_data/8845.csv\n",
      "/kaggle/input/learnplatform-covid19-impact-on-digital-learning/engagement_data/2167.csv\n",
      "/kaggle/input/learnplatform-covid19-impact-on-digital-learning/engagement_data/6131.csv\n",
      "/kaggle/input/learnplatform-covid19-impact-on-digital-learning/engagement_data/7970.csv\n",
      "/kaggle/input/learnplatform-covid19-impact-on-digital-learning/engagement_data/6640.csv\n",
      "/kaggle/input/learnplatform-covid19-impact-on-digital-learning/engagement_data/2393.csv\n",
      "/kaggle/input/learnplatform-covid19-impact-on-digital-learning/engagement_data/3393.csv\n",
      "/kaggle/input/learnplatform-covid19-impact-on-digital-learning/engagement_data/5627.csv\n",
      "/kaggle/input/learnplatform-covid19-impact-on-digital-learning/engagement_data/6418.csv\n",
      "/kaggle/input/learnplatform-covid19-impact-on-digital-learning/engagement_data/4408.csv\n",
      "/kaggle/input/learnplatform-covid19-impact-on-digital-learning/engagement_data/5882.csv\n",
      "/kaggle/input/learnplatform-covid19-impact-on-digital-learning/engagement_data/7785.csv\n",
      "/kaggle/input/learnplatform-covid19-impact-on-digital-learning/engagement_data/5802.csv\n"
     ]
    }
   ],
   "source": [
    "# This Python 3 environment comes with many helpful analytics libraries installed\n",
    "# It is defined by the kaggle/python Docker image: https://github.com/kaggle/docker-python\n",
    "# For example, here's several helpful packages to load\n",
    "\n",
    "import numpy as np # linear algebra\n",
    "import pandas as pd # data processing, CSV file I/O (e.g. pd.read_csv)\n",
    "\n",
    "# Input data files are available in the read-only \"../input/\" directory\n",
    "# For example, running this (by clicking run or pressing Shift+Enter) will list all files under the input directory\n",
    "\n",
    "import os\n",
    "for dirname, _, filenames in os.walk('/kaggle/input'):\n",
    "    for filename in filenames:\n",
    "        print(os.path.join(dirname, filename))\n",
    "\n",
    "# You can write up to 20GB to the current directory (/kaggle/working/) that gets preserved as output when you create a version using \"Save & Run All\" \n",
    "# You can also write temporary files to /kaggle/temp/, but they won't be saved outside of the current session"
   ]
  },
  {
   "cell_type": "markdown",
   "id": "6b7dfd2b",
   "metadata": {
    "execution": {
     "iopub.execute_input": "2021-08-18T10:14:36.931995Z",
     "iopub.status.busy": "2021-08-18T10:14:36.931562Z",
     "iopub.status.idle": "2021-08-18T10:14:36.938671Z",
     "shell.execute_reply": "2021-08-18T10:14:36.937308Z",
     "shell.execute_reply.started": "2021-08-18T10:14:36.931963Z"
    },
    "papermill": {
     "duration": 0.008424,
     "end_time": "2022-03-12T17:11:58.135035",
     "exception": false,
     "start_time": "2022-03-12T17:11:58.126611",
     "status": "completed"
    },
    "tags": []
   },
   "source": [
    "(1) the state of digital learning in 2020 and\n",
    "\n",
    "(2) how the engagement of digital learning relates to factors such as district demographics, broadband access, and state/national level policies and events.\n",
    "\n",
    "We encourage you to guide the analysis with questions that are related to the themes that are described above (in bold font). Below are some examples of questions that relate to our problem statement:\n",
    "\n",
    "What is the picture of digital connectivity and engagement in 2020?\n",
    "What is the effect of the COVID-19 pandemic on online and distance learning, and how might this also evolve in the future?\n",
    "How does student engagement with different types of education technology change over the course of the pandemic?\n",
    "How does student engagement with online learning platforms relate to different geography? Demographic context (e.g., race/ethnicity, ESL, learning disability)? Learning context? Socioeconomic status?\n",
    "Do certain state interventions, practices or policies (e.g., stimulus, reopening, eviction moratorium) correlate with the increase or decrease online engagement?"
   ]
  },
  {
   "cell_type": "code",
   "execution_count": 2,
   "id": "0c5be78b",
   "metadata": {
    "execution": {
     "iopub.execute_input": "2022-03-12T17:11:58.155971Z",
     "iopub.status.busy": "2022-03-12T17:11:58.155330Z",
     "iopub.status.idle": "2022-03-12T17:11:58.159719Z",
     "shell.execute_reply": "2022-03-12T17:11:58.160718Z",
     "shell.execute_reply.started": "2021-08-18T11:43:34.457749Z"
    },
    "papermill": {
     "duration": 0.017403,
     "end_time": "2022-03-12T17:11:58.160923",
     "exception": false,
     "start_time": "2022-03-12T17:11:58.143520",
     "status": "completed"
    },
    "tags": []
   },
   "outputs": [],
   "source": [
    "# data_districts = pd.read_csv(\"/kaggle/input/learnplatform-covid19-impact-on-digital-learning/districts_info.csv\")\n",
    "# print(\"data_district view\".format(data_districts.head())\n",
    "# # print(\"data_district shape is\".format(data_districts.shape))\n",
    "# # data_districts.shape\n",
    "# print(\"number of distict values in the district_id column {}\".format(data_districts['district_id'].nunique()))"
   ]
  },
  {
   "cell_type": "code",
   "execution_count": 3,
   "id": "7c3d0c49",
   "metadata": {
    "execution": {
     "iopub.execute_input": "2022-03-12T17:11:58.184551Z",
     "iopub.status.busy": "2022-03-12T17:11:58.183724Z",
     "iopub.status.idle": "2022-03-12T17:11:58.309365Z",
     "shell.execute_reply": "2022-03-12T17:11:58.308819Z",
     "shell.execute_reply.started": "2021-08-18T12:27:00.030056Z"
    },
    "papermill": {
     "duration": 0.139232,
     "end_time": "2022-03-12T17:11:58.309520",
     "exception": false,
     "start_time": "2022-03-12T17:11:58.170288",
     "status": "completed"
    },
    "tags": []
   },
   "outputs": [
    {
     "name": "stdout",
     "output_type": "stream",
     "text": [
      "\n",
      "Data_district Shape : (233, 7)\n",
      "\n",
      "number of distict values in the district_id column 233\n",
      "\n",
      "    district_id     state  locale pct_black/hispanic pct_free/reduced  \\\n",
      "0         8815  Illinois  Suburb           [0, 0.2[         [0, 0.2[   \n",
      "1         2685       NaN     NaN                NaN              NaN   \n",
      "2         4921      Utah  Suburb           [0, 0.2[       [0.2, 0.4[   \n",
      "3         3188       NaN     NaN                NaN              NaN   \n",
      "4         2238       NaN     NaN                NaN              NaN   \n",
      "\n",
      "  county_connections_ratio    pp_total_raw  \n",
      "0                [0.18, 1[  [14000, 16000[  \n",
      "1                      NaN             NaN  \n",
      "2                [0.18, 1[    [6000, 8000[  \n",
      "3                      NaN             NaN  \n",
      "4                      NaN             NaN  \n"
     ]
    }
   ],
   "source": [
    "data_districts = pd.read_csv(\"/kaggle/input/learnplatform-covid19-impact-on-digital-learning/districts_info.csv\")\n",
    "\n",
    "print('\\nData_district Shape :', data_districts.shape)\n",
    "# data_districts.shape\n",
    "print(\"\\nnumber of distict values in the district_id column {}\".format(data_districts['district_id'].nunique()))\n",
    "print(\"\\n\", data_districts.head())\n"
   ]
  },
  {
   "cell_type": "code",
   "execution_count": 4,
   "id": "911ef66f",
   "metadata": {
    "execution": {
     "iopub.execute_input": "2022-03-12T17:11:58.332830Z",
     "iopub.status.busy": "2022-03-12T17:11:58.332173Z",
     "iopub.status.idle": "2022-03-12T17:11:58.351481Z",
     "shell.execute_reply": "2022-03-12T17:11:58.352158Z",
     "shell.execute_reply.started": "2021-08-18T12:27:01.66959Z"
    },
    "papermill": {
     "duration": 0.03395,
     "end_time": "2022-03-12T17:11:58.352399",
     "exception": false,
     "start_time": "2022-03-12T17:11:58.318449",
     "status": "completed"
    },
    "tags": []
   },
   "outputs": [
    {
     "name": "stdout",
     "output_type": "stream",
     "text": [
      "\n",
      "Data_data_products Shape : (372, 6)\n",
      "\n",
      "number of distict values in the LP ID column 372\n",
      "\n",
      "    LP ID                           URL  Product Name  Provider/Company Name  \\\n",
      "0  13117    https://www.splashmath.com   SplashLearn          StudyPad Inc.   \n",
      "1  66933          https://abcmouse.com  ABCmouse.com  Age of Learning, Inc    \n",
      "2  50479         https://www.abcya.com        ABCya!         ABCya.com, LLC   \n",
      "3  92993         http://www.aleks.com/         ALEKS    McGraw-Hill PreK-12   \n",
      "4  73104  https://www.achieve3000.com/   Achieve3000            Achieve3000   \n",
      "\n",
      "            Sector(s)                         Primary Essential Function  \n",
      "0             PreK-12                    LC - Digital Learning Platforms  \n",
      "1             PreK-12                    LC - Digital Learning Platforms  \n",
      "2             PreK-12  LC - Sites, Resources & Reference - Games & Si...  \n",
      "3  PreK-12; Higher Ed                    LC - Digital Learning Platforms  \n",
      "4             PreK-12                    LC - Digital Learning Platforms  \n"
     ]
    }
   ],
   "source": [
    "data_products = pd.read_csv(\"/kaggle/input/learnplatform-covid19-impact-on-digital-learning/products_info.csv\")\n",
    "\n",
    "print('\\nData_data_products Shape :', data_products.shape)\n",
    "# data_districts.shape\n",
    "print(\"\\nnumber of distict values in the LP ID column {}\".format(data_products['LP ID'].nunique()))\n",
    "print(\"\\n\", data_products.head())"
   ]
  },
  {
   "cell_type": "code",
   "execution_count": 5,
   "id": "7a352bfa",
   "metadata": {
    "execution": {
     "iopub.execute_input": "2022-03-12T17:11:58.375081Z",
     "iopub.status.busy": "2022-03-12T17:11:58.374418Z",
     "iopub.status.idle": "2022-03-12T17:11:58.390135Z",
     "shell.execute_reply": "2022-03-12T17:11:58.390743Z"
    },
    "papermill": {
     "duration": 0.028021,
     "end_time": "2022-03-12T17:11:58.390920",
     "exception": false,
     "start_time": "2022-03-12T17:11:58.362899",
     "status": "completed"
    },
    "tags": []
   },
   "outputs": [
    {
     "name": "stdout",
     "output_type": "stream",
     "text": [
      "\n",
      "Data_data_products Shape : (372, 6)\n",
      "\n",
      "number of distict values in the LP ID column 372\n",
      "\n",
      "    LP ID                           URL  Product Name  Provider/Company Name  \\\n",
      "0  13117    https://www.splashmath.com   SplashLearn          StudyPad Inc.   \n",
      "1  66933          https://abcmouse.com  ABCmouse.com  Age of Learning, Inc    \n",
      "2  50479         https://www.abcya.com        ABCya!         ABCya.com, LLC   \n",
      "3  92993         http://www.aleks.com/         ALEKS    McGraw-Hill PreK-12   \n",
      "4  73104  https://www.achieve3000.com/   Achieve3000            Achieve3000   \n",
      "\n",
      "            Sector(s)                         Primary Essential Function  \n",
      "0             PreK-12                    LC - Digital Learning Platforms  \n",
      "1             PreK-12                    LC - Digital Learning Platforms  \n",
      "2             PreK-12  LC - Sites, Resources & Reference - Games & Si...  \n",
      "3  PreK-12; Higher Ed                    LC - Digital Learning Platforms  \n",
      "4             PreK-12                    LC - Digital Learning Platforms  \n"
     ]
    }
   ],
   "source": [
    "data_products = pd.read_csv(\"/kaggle/input/learnplatform-covid19-impact-on-digital-learning/products_info.csv\")\n",
    "\n",
    "print('\\nData_data_products Shape :', data_products.shape)\n",
    "# data_districts.shape\n",
    "print(\"\\nnumber of distict values in the LP ID column {}\".format(data_products['LP ID'].nunique()))\n",
    "print(\"\\n\", data_products.head())"
   ]
  },
  {
   "cell_type": "code",
   "execution_count": null,
   "id": "73f2d5a2",
   "metadata": {
    "papermill": {
     "duration": 0.009839,
     "end_time": "2022-03-12T17:11:58.410447",
     "exception": false,
     "start_time": "2022-03-12T17:11:58.400608",
     "status": "completed"
    },
    "tags": []
   },
   "outputs": [],
   "source": []
  },
  {
   "cell_type": "code",
   "execution_count": null,
   "id": "95cfd898",
   "metadata": {
    "papermill": {
     "duration": 0.009096,
     "end_time": "2022-03-12T17:11:58.430705",
     "exception": false,
     "start_time": "2022-03-12T17:11:58.421609",
     "status": "completed"
    },
    "tags": []
   },
   "outputs": [],
   "source": []
  },
  {
   "cell_type": "markdown",
   "id": "af271856",
   "metadata": {
    "papermill": {
     "duration": 0.009268,
     "end_time": "2022-03-12T17:11:58.449395",
     "exception": false,
     "start_time": "2022-03-12T17:11:58.440127",
     "status": "completed"
    },
    "tags": []
   },
   "source": [
    "join the files"
   ]
  },
  {
   "cell_type": "code",
   "execution_count": 6,
   "id": "04448561",
   "metadata": {
    "execution": {
     "iopub.execute_input": "2022-03-12T17:11:58.472082Z",
     "iopub.status.busy": "2022-03-12T17:11:58.471212Z",
     "iopub.status.idle": "2022-03-12T17:11:58.480237Z",
     "shell.execute_reply": "2022-03-12T17:11:58.478439Z",
     "shell.execute_reply.started": "2021-08-18T12:26:37.689503Z"
    },
    "papermill": {
     "duration": 0.021607,
     "end_time": "2022-03-12T17:11:58.480491",
     "exception": false,
     "start_time": "2022-03-12T17:11:58.458884",
     "status": "completed"
    },
    "tags": []
   },
   "outputs": [
    {
     "name": "stdout",
     "output_type": "stream",
     "text": [
      "do LP_ID and district_id have equal unique values?:  False\n"
     ]
    }
   ],
   "source": [
    "#district_id and lp_id. to join the files\n",
    "print(\"do LP_ID and district_id have equal unique values?: \",\n",
    "      data_products['LP ID'].nunique() == data_districts['district_id'].nunique(),)"
   ]
  },
  {
   "cell_type": "code",
   "execution_count": 7,
   "id": "3cfca5ae",
   "metadata": {
    "execution": {
     "iopub.execute_input": "2022-03-12T17:11:58.513256Z",
     "iopub.status.busy": "2022-03-12T17:11:58.512286Z",
     "iopub.status.idle": "2022-03-12T17:11:58.559804Z",
     "shell.execute_reply": "2022-03-12T17:11:58.560834Z",
     "shell.execute_reply.started": "2021-08-18T12:26:37.968026Z"
    },
    "papermill": {
     "duration": 0.068133,
     "end_time": "2022-03-12T17:11:58.561026",
     "exception": false,
     "start_time": "2022-03-12T17:11:58.492893",
     "status": "completed"
    },
    "scrolled": true,
    "tags": []
   },
   "outputs": [
    {
     "name": "stdout",
     "output_type": "stream",
     "text": [
      "Empty DataFrame\n",
      "Columns: [district_id, state, locale, pct_black/hispanic, pct_free/reduced, county_connections_ratio, pp_total_raw, LP ID, URL, Product Name, Provider/Company Name, Sector(s), Primary Essential Function, _merge]\n",
      "Index: []\n",
      "(0, 14)\n"
     ]
    }
   ],
   "source": [
    "#join the two dataframes prior to any data cleaning and visualization. use pd.merge\n",
    "#frames = [data_districts, data_products]\n",
    "merge_districts_products = pd.merge(data_districts, data_products, \n",
    "                                    left_on = \"district_id\", \n",
    "                                    right_on = \"LP ID\",\n",
    "                                   indicator=True)\n",
    "print(merge_districts_products.head())\n",
    "print(merge_districts_products.shape)\n",
    "\n"
   ]
  },
  {
   "cell_type": "code",
   "execution_count": null,
   "id": "35ad8e03",
   "metadata": {
    "execution": {
     "iopub.execute_input": "2021-08-18T10:55:11.586584Z",
     "iopub.status.busy": "2021-08-18T10:55:11.586187Z",
     "iopub.status.idle": "2021-08-18T10:55:11.598924Z",
     "shell.execute_reply": "2021-08-18T10:55:11.59806Z",
     "shell.execute_reply.started": "2021-08-18T10:55:11.58655Z"
    },
    "papermill": {
     "duration": 0.013173,
     "end_time": "2022-03-12T17:11:58.586784",
     "exception": false,
     "start_time": "2022-03-12T17:11:58.573611",
     "status": "completed"
    },
    "tags": []
   },
   "outputs": [],
   "source": []
  }
 ],
 "metadata": {
  "kernelspec": {
   "display_name": "Python 3",
   "language": "python",
   "name": "python3"
  },
  "language_info": {
   "codemirror_mode": {
    "name": "ipython",
    "version": 3
   },
   "file_extension": ".py",
   "mimetype": "text/x-python",
   "name": "python",
   "nbconvert_exporter": "python",
   "pygments_lexer": "ipython3",
   "version": "3.7.10"
  },
  "papermill": {
   "default_parameters": {},
   "duration": 9.514456,
   "end_time": "2022-03-12T17:11:59.413034",
   "environment_variables": {},
   "exception": null,
   "input_path": "__notebook__.ipynb",
   "output_path": "__notebook__.ipynb",
   "parameters": {},
   "start_time": "2022-03-12T17:11:49.898578",
   "version": "2.3.3"
  }
 },
 "nbformat": 4,
 "nbformat_minor": 5
}
